{
 "cells": [
  {
   "cell_type": "code",
   "execution_count": null,
   "id": "0d447395",
   "metadata": {},
   "outputs": [
    {
     "data": {
      "text/plain": [
       "array(['usa', 'germany', 'japan', 'switzerland', 'canada', 'netherlands',\n",
       "       'france'], dtype=object)"
      ]
     },
     "execution_count": 2,
     "metadata": {},
     "output_type": "execute_result"
    }
   ],
   "source": [
    "import pandas as pd\n",
    "\n",
    "df = pd.read_csv('World-Stock-Prices-Dataset.csv')\n",
    "\n",
    "\n",
    "df[\"Country\"].unique()\n"
   ]
  },
  {
   "cell_type": "code",
   "execution_count": 3,
   "id": "c305bdea",
   "metadata": {},
   "outputs": [
    {
     "name": "stdout",
     "output_type": "stream",
     "text": [
      "Dataset shape: (310122, 13)\n",
      "\n",
      "Column names:\n",
      "['Date', 'Open', 'High', 'Low', 'Close', 'Volume', 'Brand_Name', 'Ticker', 'Industry_Tag', 'Country', 'Dividends', 'Stock Splits', 'Capital Gains']\n",
      "\n",
      "First few rows:\n",
      "                        Date        Open        High         Low       Close  \\\n",
      "0  2025-07-03 00:00:00-04:00    6.630000    6.740000    6.615000    6.640000   \n",
      "1  2025-07-03 00:00:00-04:00  106.750000  108.370003  106.330101  107.339996   \n",
      "2  2025-07-03 00:00:00-04:00  122.629997  123.050003  121.550003  121.930000   \n",
      "3  2025-07-03 00:00:00-04:00  221.705002  224.009995  221.360001  223.410004   \n",
      "4  2025-07-03 00:00:00-04:00  212.145004  214.649994  211.810104  213.550003   \n",
      "\n",
      "       Volume Brand_Name Ticker Industry_Tag  Country  Dividends  \\\n",
      "0   4209664.0    peloton   PTON      fitness      usa        0.0   \n",
      "1    560190.0      crocs   CROX     footwear      usa        0.0   \n",
      "2     36600.0     adidas  ADDYY      apparel  germany        0.0   \n",
      "3  29295154.0     amazon   AMZN   e-commerce      usa        0.0   \n",
      "4  34697317.0      apple   AAPL   technology      usa        0.0   \n",
      "\n",
      "   Stock Splits  Capital Gains  \n",
      "0           0.0            NaN  \n",
      "1           0.0            NaN  \n",
      "2           0.0            NaN  \n",
      "3           0.0            NaN  \n",
      "4           0.0            NaN  \n",
      "\n",
      "Data types:\n",
      "Date              object\n",
      "Open             float64\n",
      "High             float64\n",
      "Low              float64\n",
      "Close            float64\n",
      "Volume           float64\n",
      "Brand_Name        object\n",
      "Ticker            object\n",
      "Industry_Tag      object\n",
      "Country           object\n",
      "Dividends        float64\n",
      "Stock Splits     float64\n",
      "Capital Gains    float64\n",
      "dtype: object\n",
      "\n",
      "Basic statistics:\n",
      "                Open           High            Low          Close  \\\n",
      "count  310122.000000  310122.000000  310122.000000  310122.000000   \n",
      "mean       76.325431      77.198011      75.434586      76.338032   \n",
      "std       141.684070     143.224109     140.063617     141.679129   \n",
      "min         0.000000       0.000000       0.000000       0.198861   \n",
      "25%        15.932500      16.163165      15.710323      15.940000   \n",
      "50%        35.408120      35.809869      34.982469      35.407547   \n",
      "75%        83.996691      84.914656      83.088609      84.000000   \n",
      "max      3445.580078    3463.070068    3370.000000    3427.610107   \n",
      "\n",
      "             Volume      Dividends   Stock Splits  Capital Gains  \n",
      "count  3.101220e+05  310122.000000  310122.000000            2.0  \n",
      "mean   2.270937e+07       0.003643       0.000875            0.0  \n",
      "std    8.565744e+07       0.069905       0.115434            0.0  \n",
      "min    0.000000e+00       0.000000       0.000000            0.0  \n",
      "25%    1.379050e+06       0.000000       0.000000            0.0  \n",
      "50%    4.591642e+06       0.000000       0.000000            0.0  \n",
      "75%    1.212860e+07       0.000000       0.000000            0.0  \n",
      "max    7.421641e+09      15.000000      50.000000            0.0  \n"
     ]
    }
   ],
   "source": [
    "# Explore the dataset structure\n",
    "print(\"Dataset shape:\", df.shape)\n",
    "print(\"\\nColumn names:\")\n",
    "print(df.columns.tolist())\n",
    "print(\"\\nFirst few rows:\")\n",
    "print(df.head())\n",
    "print(\"\\nData types:\")\n",
    "print(df.dtypes)\n",
    "print(\"\\nBasic statistics:\")\n",
    "print(df.describe())\n"
   ]
  }
 ],
 "metadata": {
  "kernelspec": {
   "display_name": "stock",
   "language": "python",
   "name": "python3"
  },
  "language_info": {
   "codemirror_mode": {
    "name": "ipython",
    "version": 3
   },
   "file_extension": ".py",
   "mimetype": "text/x-python",
   "name": "python",
   "nbconvert_exporter": "python",
   "pygments_lexer": "ipython3",
   "version": "3.13.5"
  }
 },
 "nbformat": 4,
 "nbformat_minor": 5
}
