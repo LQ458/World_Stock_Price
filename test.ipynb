{
 "cells": [
  {
   "cell_type": "code",
   "execution_count": 1,
   "id": "0d447395",
   "metadata": {},
   "outputs": [
    {
     "data": {
      "text/plain": [
       "array(['usa', 'germany', 'japan', 'switzerland', 'canada', 'netherlands',\n",
       "       'france'], dtype=object)"
      ]
     },
     "execution_count": 1,
     "metadata": {},
     "output_type": "execute_result"
    }
   ],
   "source": [
    "from sklearn.linear_model import LinearRegression\n",
    "import pandas as pd\n",
    "\n",
    "df = pd.read_csv('World-Stock-Prices-Dataset.csv')\n",
    "\n",
    "\n",
    "df[\"Country\"].unique()\n"
   ]
  },
  {
   "cell_type": "code",
   "execution_count": 2,
   "id": "c305bdea",
   "metadata": {},
   "outputs": [
    {
     "name": "stdout",
     "output_type": "stream",
     "text": [
      "Dataset shape: (310122, 13)\n",
      "\n",
      "Column names:\n",
      "['Date', 'Open', 'High', 'Low', 'Close', 'Volume', 'Brand_Name', 'Ticker', 'Industry_Tag', 'Country', 'Dividends', 'Stock Splits', 'Capital Gains']\n",
      "\n",
      "First few rows:\n",
      "                        Date        Open        High         Low       Close  \\\n",
      "0  2025-07-03 00:00:00-04:00    6.630000    6.740000    6.615000    6.640000   \n",
      "1  2025-07-03 00:00:00-04:00  106.750000  108.370003  106.330101  107.339996   \n",
      "2  2025-07-03 00:00:00-04:00  122.629997  123.050003  121.550003  121.930000   \n",
      "3  2025-07-03 00:00:00-04:00  221.705002  224.009995  221.360001  223.410004   \n",
      "4  2025-07-03 00:00:00-04:00  212.145004  214.649994  211.810104  213.550003   \n",
      "\n",
      "       Volume Brand_Name Ticker Industry_Tag  Country  Dividends  \\\n",
      "0   4209664.0    peloton   PTON      fitness      usa        0.0   \n",
      "1    560190.0      crocs   CROX     footwear      usa        0.0   \n",
      "2     36600.0     adidas  ADDYY      apparel  germany        0.0   \n",
      "3  29295154.0     amazon   AMZN   e-commerce      usa        0.0   \n",
      "4  34697317.0      apple   AAPL   technology      usa        0.0   \n",
      "\n",
      "   Stock Splits  Capital Gains  \n",
      "0           0.0            NaN  \n",
      "1           0.0            NaN  \n",
      "2           0.0            NaN  \n",
      "3           0.0            NaN  \n",
      "4           0.0            NaN  \n",
      "\n",
      "Data types:\n",
      "Date              object\n",
      "Open             float64\n",
      "High             float64\n",
      "Low              float64\n",
      "Close            float64\n",
      "Volume           float64\n",
      "Brand_Name        object\n",
      "Ticker            object\n",
      "Industry_Tag      object\n",
      "Country           object\n",
      "Dividends        float64\n",
      "Stock Splits     float64\n",
      "Capital Gains    float64\n",
      "dtype: object\n",
      "\n",
      "Basic statistics:\n",
      "                Open           High            Low          Close  \\\n",
      "count  310122.000000  310122.000000  310122.000000  310122.000000   \n",
      "mean       76.325431      77.198011      75.434586      76.338032   \n",
      "std       141.684070     143.224109     140.063617     141.679129   \n",
      "min         0.000000       0.000000       0.000000       0.198861   \n",
      "25%        15.932500      16.163165      15.710323      15.940000   \n",
      "50%        35.408120      35.809869      34.982469      35.407547   \n",
      "75%        83.996691      84.914656      83.088609      84.000000   \n",
      "max      3445.580078    3463.070068    3370.000000    3427.610107   \n",
      "\n",
      "             Volume      Dividends   Stock Splits  Capital Gains  \n",
      "count  3.101220e+05  310122.000000  310122.000000            2.0  \n",
      "mean   2.270937e+07       0.003643       0.000875            0.0  \n",
      "std    8.565744e+07       0.069905       0.115434            0.0  \n",
      "min    0.000000e+00       0.000000       0.000000            0.0  \n",
      "25%    1.379050e+06       0.000000       0.000000            0.0  \n",
      "50%    4.591642e+06       0.000000       0.000000            0.0  \n",
      "75%    1.212860e+07       0.000000       0.000000            0.0  \n",
      "max    7.421641e+09      15.000000      50.000000            0.0  \n"
     ]
    }
   ],
   "source": [
    "# Explore the dataset structure\n",
    "print(\"Dataset shape:\", df.shape)\n",
    "print(\"\\nColumn names:\")\n",
    "print(df.columns.tolist())\n",
    "print(\"\\nFirst few rows:\")\n",
    "print(df.head())\n",
    "print(\"\\nData types:\")\n",
    "print(df.dtypes)\n",
    "print(\"\\nBasic statistics:\")\n",
    "print(df.describe())\n"
   ]
  },
  {
   "cell_type": "code",
   "execution_count": 3,
   "id": "682a5a68",
   "metadata": {},
   "outputs": [
    {
     "name": "stdout",
     "output_type": "stream",
     "text": [
      "Date             2024-06-18 00:00:00-04:00\n",
      "Open                                3435.0\n",
      "High                           3463.070068\n",
      "Low                                 3370.0\n",
      "Close                          3427.610107\n",
      "Volume                            693800.0\n",
      "Brand_Name                        chipotle\n",
      "Ticker                                 CMG\n",
      "Industry_Tag                          food\n",
      "Country                                usa\n",
      "Dividends                              0.0\n",
      "Stock Splits                           0.0\n",
      "Capital Gains                          NaN\n",
      "Name: 18924, dtype: object\n",
      "{'3m': 3480991.8792890264, 'adidas': 59576.23362175525, 'adobe': 5115460.557032458, 'airbnb': 6007634.09325562, 'amazon': 116452264.35935085, 'amd': 34004310.76893354, 'american eagle outfitters': 5032047.939258114, 'american express': 6076273.512982998, 'apple': 376723829.8304482, 'block': 10403551.52184874, 'bmw group': 12802.4037999038, 'chipotle': 1386581.7429726997, 'cisco': 41715528.26846986, 'coinbase': 11019766.017905103, 'colgate palmolive': 4379985.943731643, 'costco': 3257054.3625966, 'crocs': 2127899.610897306, 'delta air lines': 11810702.756914433, 'fedex': 2144221.332972639, 'foot locker': 2324440.9214837714, 'google': 112822106.24302939, 'hershey company': 1230395.5218735507, 'hilton': 2565459.676798379, 'honda': 658475.913742464, 'johnson & johnson': 9001874.670942813, 'jpmorgan chase & co': 19300025.36584235, 'logitech': 610731.1718967382, 'lvmh': 123495.19032192751, 'marriott': 2785500.6237057643, 'mastercard': 10412235.505654946, \"mcdonald's\": 5385681.26244204, 'microsoft': 49226365.404636785, 'netflix': 15014825.253405994, 'nike': 10614801.992272025, 'nintendo': 1225801.3857695283, 'nordstrom': 3235248.8848126847, 'nvidia': 84138751.20958269, 'peloton': 13338567.044488711, 'philips': 1116327.3003555418, 'pinterest': 11841648.19109462, 'porsche': 185914.0909090909, 'procter & gamble': 8965207.81759159, 'puma': 377.5108396946565, 'roblox': 12822004.118317265, 'salesforce / slack': 6890878.691473448, 'shopify': 16235864.23481937, 'southwest airlines': 6650917.19397218, 'spotify': 1879638.1820117084, 'starbucks': 13626210.965069551, 'target': 5627622.917465224, 'tesla': 97076321.50900078, 'the coca-cola company': 14770558.729829984, 'the home depot': 8416878.68835987, 'the walt disney company': 9802719.39366306, 'toyota': 363929.89240995515, 'twitter': 0.0, 'uber': 23899277.016853932, 'ubisoft': 72392.48299492386, 'unilever': 1241955.968928737, 'visa': 14160436.5570683, 'zoom video communications': 4667022.289424861, 'zoominfo': 5029238.965256797}\n",
      "{'usa': 243606, 'japan': 19403, 'germany': 16225, 'netherlands': 12938, 'france': 8879, 'switzerland': 6469, 'canada': 2602}\n"
     ]
    }
   ],
   "source": [
    "#questions 1-3\n",
    "#1\n",
    "top_row = df.loc[df[\"High\"].idxmax()]\n",
    "print(top_row)\n",
    "#2\n",
    "avg = df.groupby(\"Brand_Name\")[\"Volume\"].mean().to_dict()\n",
    "print(avg)\n",
    "#3\n",
    "country_counts = df[\"Country\"].value_counts().to_dict()\n",
    "print(country_counts)"
   ]
  },
  {
   "cell_type": "markdown",
   "id": "efc570b5",
   "metadata": {},
   "source": [
    "4) which company had the most volatile stock in terms of daily range (high to low gap)"
   ]
  },
  {
   "cell_type": "code",
   "execution_count": 4,
   "id": "c322f562",
   "metadata": {},
   "outputs": [
    {
     "name": "stdout",
     "output_type": "stream",
     "text": [
      "Date              2019-06-10 00:00:00-04:00\n",
      "Open                             590.928222\n",
      "High                             600.041075\n",
      "Low                               67.861498\n",
      "Close                             92.097748\n",
      "Volume                                200.0\n",
      "Brand_Name                             puma\n",
      "Ticker                                PMMAF\n",
      "Industry_Tag                        apparel\n",
      "Country                             germany\n",
      "Dividends                               0.0\n",
      "Stock Splits                           10.0\n",
      "Capital Gains                           NaN\n",
      "Volatility (%)                   784.214303\n",
      "Name: 94646, dtype: object\n"
     ]
    }
   ],
   "source": [
    "df['Volatility (%)'] = (df['High'] - df['Low']) / df['Low'] * 100\n",
    "max_vol_row = df.loc[df['Volatility (%)'].idxmax()]\n",
    "print(max_vol_row)"
   ]
  },
  {
   "cell_type": "markdown",
   "id": "137345f9",
   "metadata": {},
   "source": [
    "5) identify the companies that paid dividends at some point in the dataset"
   ]
  },
  {
   "cell_type": "code",
   "execution_count": 5,
   "id": "3382cd75",
   "metadata": {},
   "outputs": [
    {
     "data": {
      "text/plain": [
       "array(['american express', 'cisco', 'jpmorgan chase & co',\n",
       "       'the walt disney company', 'fedex', 'salesforce / slack',\n",
       "       'southwest airlines', 'the coca-cola company', 'google',\n",
       "       'the home depot', 'nike', \"mcdonald's\", 'johnson & johnson',\n",
       "       'hilton', '3m', 'marriott', 'unilever', 'hershey company',\n",
       "       'starbucks', 'microsoft', 'target', 'delta air lines', 'visa',\n",
       "       'costco', 'procter & gamble', 'colgate palmolive',\n",
       "       'american eagle outfitters', 'mastercard', 'nvidia', 'nordstrom',\n",
       "       'apple', 'logitech', 'porsche', 'puma', 'adidas', 'bmw group',\n",
       "       'lvmh', 'foot locker', 'honda', 'philips', 'toyota', 'ubisoft',\n",
       "       'nintendo', 'adobe'], dtype=object)"
      ]
     },
     "execution_count": 5,
     "metadata": {},
     "output_type": "execute_result"
    }
   ],
   "source": [
    "df[df[\"Dividends\"] > 0][\"Brand_Name\"].unique()"
   ]
  },
  {
   "cell_type": "markdown",
   "id": "25bab0c6",
   "metadata": {},
   "source": [
    "6. which company's stock showed the greatest upward trend over time?"
   ]
  },
  {
   "cell_type": "code",
   "execution_count": 6,
   "id": "8cef932d",
   "metadata": {},
   "outputs": [
    {
     "name": "stdout",
     "output_type": "stream",
     "text": [
      "Brand_Name                      unilever\n",
      "Start_Date     2000-01-03 05:00:00+00:00\n",
      "End_Date       2025-07-03 04:00:00+00:00\n",
      "Start_Price                     0.440314\n",
      "End_Price                      57.123383\n",
      "Increase                    12873.335937\n",
      "Name: 57, dtype: object\n"
     ]
    }
   ],
   "source": [
    "df['Date'] = pd.to_datetime(df['Date'], utc=True)\n",
    "results = []\n",
    "\n",
    "for company, group in df.groupby('Brand_Name'):\n",
    "  group = group.sort_values(by='Date')\n",
    "  if len(group) < 2:\n",
    "    continue\n",
    "  x = group['Date'].map(pd.Timestamp.toordinal).values.reshape(-1, 1)\n",
    "  y = group['Close'].values\n",
    "\n",
    "  model = LinearRegression().fit(x, y)\n",
    "\n",
    "  start_date = x[0, 0]\n",
    "  end_date = x[-1, 0]\n",
    "  start_pred = model.predict([[start_date]])[0]\n",
    "  end_pred = model.predict([[end_date]])[0]\n",
    "\n",
    "  increase = (end_pred - start_pred) / start_pred * 100\n",
    "\n",
    "  results.append({\n",
    "    'Brand_Name': company,\n",
    "    'Start_Date': group['Date'].iloc[0],\n",
    "    'End_Date': group['Date'].iloc[-1],\n",
    "    'Start_Price': start_pred,\n",
    "    'End_Price': end_pred,\n",
    "    'Increase': increase,\n",
    "  })\n",
    "\n",
    "results_df = pd.DataFrame(results)\n",
    "\n",
    "max_increase = results_df.loc[results_df['Increase'].idxmax()]\n",
    "print(max_increase)"
   ]
  },
  {
   "cell_type": "code",
   "execution_count": 7,
   "id": "3382cd75",
   "metadata": {},
   "outputs": [
    {
     "name": "stdout",
     "output_type": "stream",
     "text": [
      "['peloton' 'crocs' 'adidas' 'amazon' 'apple' 'nike' 'target' 'google'\n",
      " 'spotify' 'zoom video communications' 'the walt disney company' 'roblox'\n",
      " 'delta air lines' 'costco' 'southwest airlines'\n",
      " 'american eagle outfitters' 'tesla' 'starbucks' 'nvidia'\n",
      " 'salesforce / slack' 'honda' 'colgate palmolive' 'hershey company'\n",
      " 'chipotle' 'pinterest' 'logitech' 'shopify' 'amd' 'american express'\n",
      " 'coinbase' 'mastercard' \"mcdonald's\" 'adobe' 'unilever' 'cisco'\n",
      " 'jpmorgan chase & co' 'airbnb' 'marriott' 'toyota' 'hilton'\n",
      " 'the home depot' 'johnson & johnson' 'uber' 'procter & gamble' 'fedex'\n",
      " '3m' 'philips' 'foot locker' 'the coca-cola company' 'microsoft' 'visa'\n",
      " 'lvmh' 'zoominfo' 'ubisoft' 'netflix' 'puma' 'nintendo' 'bmw group'\n",
      " 'porsche' 'twitter' 'nordstrom' 'block']\n"
     ]
    },
    {
     "name": "stderr",
     "output_type": "stream",
     "text": [
      "C:\\Users\\ryanl\\AppData\\Local\\Temp\\ipykernel_14912\\748763019.py:12: FutureWarning: Series.__getitem__ treating keys as positions is deprecated. In a future version, integer keys will always be treated as labels (consistent with DataFrame behavior). To access a value by position, use `ser.iloc[pos]`\n",
      "  if y[6]!=i:\n",
      "C:\\Users\\ryanl\\AppData\\Local\\Temp\\ipykernel_14912\\748763019.py:14: FutureWarning: Series.__getitem__ treating keys as positions is deprecated. In a future version, integer keys will always be treated as labels (consistent with DataFrame behavior). To access a value by position, use `ser.iloc[pos]`\n",
      "  l.append([y[0],y[4]])\n",
      "C:\\Users\\ryanl\\AppData\\Local\\Temp\\ipykernel_14912\\748763019.py:12: FutureWarning: Series.__getitem__ treating keys as positions is deprecated. In a future version, integer keys will always be treated as labels (consistent with DataFrame behavior). To access a value by position, use `ser.iloc[pos]`\n",
      "  if y[6]!=i:\n",
      "C:\\Users\\ryanl\\AppData\\Local\\Temp\\ipykernel_14912\\748763019.py:14: FutureWarning: Series.__getitem__ treating keys as positions is deprecated. In a future version, integer keys will always be treated as labels (consistent with DataFrame behavior). To access a value by position, use `ser.iloc[pos]`\n",
      "  l.append([y[0],y[4]])\n"
     ]
    },
    {
     "ename": "KeyboardInterrupt",
     "evalue": "",
     "output_type": "error",
     "traceback": [
      "\u001b[31m---------------------------------------------------------------------------\u001b[39m",
      "\u001b[31mKeyboardInterrupt\u001b[39m                         Traceback (most recent call last)",
      "\u001b[36mCell\u001b[39m\u001b[36m \u001b[39m\u001b[32mIn[7]\u001b[39m\u001b[32m, line 10\u001b[39m\n\u001b[32m      8\u001b[39m \u001b[38;5;28;01mfor\u001b[39;00m i \u001b[38;5;129;01min\u001b[39;00m df[\u001b[33m\"\u001b[39m\u001b[33mBrand_Name\u001b[39m\u001b[33m\"\u001b[39m].unique():\n\u001b[32m      9\u001b[39m     l=[]\n\u001b[32m---> \u001b[39m\u001b[32m10\u001b[39m \u001b[43m    \u001b[49m\u001b[38;5;28;43;01mfor\u001b[39;49;00m\u001b[43m \u001b[49m\u001b[43mx\u001b[49m\u001b[43m,\u001b[49m\u001b[43my\u001b[49m\u001b[43m \u001b[49m\u001b[38;5;129;43;01min\u001b[39;49;00m\u001b[43m \u001b[49m\u001b[43mdf\u001b[49m\u001b[43m.\u001b[49m\u001b[43miterrows\u001b[49m\u001b[43m(\u001b[49m\u001b[43m)\u001b[49m\u001b[43m:\u001b[49m\n\u001b[32m     11\u001b[39m \u001b[43m        \u001b[49m\u001b[38;5;66;43;03m# print(i,y[6])\u001b[39;49;00m\n\u001b[32m     12\u001b[39m \u001b[43m        \u001b[49m\u001b[38;5;28;43;01mif\u001b[39;49;00m\u001b[43m \u001b[49m\u001b[43my\u001b[49m\u001b[43m[\u001b[49m\u001b[32;43m6\u001b[39;49m\u001b[43m]\u001b[49m\u001b[43m!=\u001b[49m\u001b[43mi\u001b[49m\u001b[43m:\u001b[49m\n\u001b[32m     13\u001b[39m \u001b[43m            \u001b[49m\u001b[38;5;28;43;01mcontinue\u001b[39;49;00m\n",
      "\u001b[36mFile \u001b[39m\u001b[32m~\\AppData\\Local\\Packages\\PythonSoftwareFoundation.Python.3.12_qbz5n2kfra8p0\\LocalCache\\local-packages\\Python312\\site-packages\\pandas\\core\\frame.py:1559\u001b[39m, in \u001b[36mDataFrame.iterrows\u001b[39m\u001b[34m(self)\u001b[39m\n\u001b[32m   1557\u001b[39m using_cow = using_copy_on_write()\n\u001b[32m   1558\u001b[39m \u001b[38;5;28;01mfor\u001b[39;00m k, v \u001b[38;5;129;01min\u001b[39;00m \u001b[38;5;28mzip\u001b[39m(\u001b[38;5;28mself\u001b[39m.index, \u001b[38;5;28mself\u001b[39m.values):\n\u001b[32m-> \u001b[39m\u001b[32m1559\u001b[39m     s = \u001b[43mklass\u001b[49m\u001b[43m(\u001b[49m\u001b[43mv\u001b[49m\u001b[43m,\u001b[49m\u001b[43m \u001b[49m\u001b[43mindex\u001b[49m\u001b[43m=\u001b[49m\u001b[43mcolumns\u001b[49m\u001b[43m,\u001b[49m\u001b[43m \u001b[49m\u001b[43mname\u001b[49m\u001b[43m=\u001b[49m\u001b[43mk\u001b[49m\u001b[43m)\u001b[49m.__finalize__(\u001b[38;5;28mself\u001b[39m)\n\u001b[32m   1560\u001b[39m     \u001b[38;5;28;01mif\u001b[39;00m using_cow \u001b[38;5;129;01mand\u001b[39;00m \u001b[38;5;28mself\u001b[39m._mgr.is_single_block:\n\u001b[32m   1561\u001b[39m         s._mgr.add_references(\u001b[38;5;28mself\u001b[39m._mgr)  \u001b[38;5;66;03m# type: ignore[arg-type]\u001b[39;00m\n",
      "\u001b[36mFile \u001b[39m\u001b[32m~\\AppData\\Local\\Packages\\PythonSoftwareFoundation.Python.3.12_qbz5n2kfra8p0\\LocalCache\\local-packages\\Python312\\site-packages\\pandas\\core\\series.py:586\u001b[39m, in \u001b[36mSeries.__init__\u001b[39m\u001b[34m(self, data, index, dtype, name, copy, fastpath)\u001b[39m\n\u001b[32m    583\u001b[39m \u001b[38;5;28;01melse\u001b[39;00m:\n\u001b[32m    584\u001b[39m     data = sanitize_array(data, index, dtype, copy)\n\u001b[32m--> \u001b[39m\u001b[32m586\u001b[39m     manager = \u001b[43m_get_option\u001b[49m\u001b[43m(\u001b[49m\u001b[33;43m\"\u001b[39;49m\u001b[33;43mmode.data_manager\u001b[39;49m\u001b[33;43m\"\u001b[39;49m\u001b[43m,\u001b[49m\u001b[43m \u001b[49m\u001b[43msilent\u001b[49m\u001b[43m=\u001b[49m\u001b[38;5;28;43;01mTrue\u001b[39;49;00m\u001b[43m)\u001b[49m\n\u001b[32m    587\u001b[39m     \u001b[38;5;28;01mif\u001b[39;00m manager == \u001b[33m\"\u001b[39m\u001b[33mblock\u001b[39m\u001b[33m\"\u001b[39m:\n\u001b[32m    588\u001b[39m         data = SingleBlockManager.from_array(data, index, refs=refs)\n",
      "\u001b[36mFile \u001b[39m\u001b[32m~\\AppData\\Local\\Packages\\PythonSoftwareFoundation.Python.3.12_qbz5n2kfra8p0\\LocalCache\\local-packages\\Python312\\site-packages\\pandas\\_config\\config.py:149\u001b[39m, in \u001b[36m_get_option\u001b[39m\u001b[34m(pat, silent)\u001b[39m\n\u001b[32m    146\u001b[39m key = _get_single_key(pat, silent)\n\u001b[32m    148\u001b[39m \u001b[38;5;66;03m# walk the nested dict\u001b[39;00m\n\u001b[32m--> \u001b[39m\u001b[32m149\u001b[39m root, k = \u001b[43m_get_root\u001b[49m\u001b[43m(\u001b[49m\u001b[43mkey\u001b[49m\u001b[43m)\u001b[49m\n\u001b[32m    150\u001b[39m \u001b[38;5;28;01mreturn\u001b[39;00m root[k]\n",
      "\u001b[36mFile \u001b[39m\u001b[32m~\\AppData\\Local\\Packages\\PythonSoftwareFoundation.Python.3.12_qbz5n2kfra8p0\\LocalCache\\local-packages\\Python312\\site-packages\\pandas\\_config\\config.py:639\u001b[39m, in \u001b[36m_get_root\u001b[39m\u001b[34m(key)\u001b[39m\n\u001b[32m    637\u001b[39m cursor = _global_config\n\u001b[32m    638\u001b[39m \u001b[38;5;28;01mfor\u001b[39;00m p \u001b[38;5;129;01min\u001b[39;00m path[:-\u001b[32m1\u001b[39m]:\n\u001b[32m--> \u001b[39m\u001b[32m639\u001b[39m     cursor = cursor[p]\n\u001b[32m    640\u001b[39m \u001b[38;5;28;01mreturn\u001b[39;00m cursor, path[-\u001b[32m1\u001b[39m]\n",
      "\u001b[31mKeyboardInterrupt\u001b[39m: "
     ]
    }
   ],
   "source": [
    "#question 7\n",
    "d4={}\n",
    "print(df[\"Brand_Name\"].unique())\n",
    "for x in df[\"Brand_Name\"].unique():\n",
    "    d4[x]=[\"\",\"\",0]\n",
    "# print(df[\"Brand_Name\"].unique()[0])\n",
    "mx=0\n",
    "for i in df[\"Brand_Name\"].unique():\n",
    "    l=[]\n",
    "    for x,y in df.iterrows():\n",
    "        # print(i,y[6])\n",
    "        if y[6]!=i:\n",
    "            continue\n",
    "        l.append([y[0],y[4]])\n",
    "    # print(sorted(l,key=lambda x: x[1],reverse=True))\n",
    "    # break\n",
    "    for x in range(len(l)-5):\n",
    "        a=l[x][0]\n",
    "        b=l[x+5][0]\n",
    "        cnt=0\n",
    "        for y in range(5):\n",
    "            cnt+=l[x+y][1]\n",
    "        # print(d4[i][2])\n",
    "        mx=max(mx,cnt)\n",
    "        if d4[i][2]<=cnt:\n",
    "            d4[i][2]=cnt\n",
    "            d4[i][0]=a\n",
    "            d4[i][1]=b\n",
    "    # print(mx)\n",
    "    # break\n",
    "print(d4)"
   ]
  },
  {
   "cell_type": "markdown",
   "id": "6f5abc60",
   "metadata": {},
   "source": []
  },
  {
   "cell_type": "code",
   "execution_count": null,
   "id": "5ce2eef5",
   "metadata": {},
   "outputs": [],
   "source": []
  }
 ],
 "metadata": {
  "kernelspec": {
   "display_name": "Python 3",
   "language": "python",
   "name": "python3"
  },
  "language_info": {
   "codemirror_mode": {
    "name": "ipython",
    "version": 3
   },
   "file_extension": ".py",
   "mimetype": "text/x-python",
   "name": "python",
   "nbconvert_exporter": "python",
   "pygments_lexer": "ipython3",
   "version": "3.12.10"
  }
 },
 "nbformat": 4,
 "nbformat_minor": 5
}
