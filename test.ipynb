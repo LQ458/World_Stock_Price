{
 "cells": [
  {
   "cell_type": "code",
   "execution_count": 1,
   "id": "0d447395",
   "metadata": {},
   "outputs": [
    {
     "data": {
      "text/plain": [
       "array(['usa', 'germany', 'japan', 'switzerland', 'canada', 'netherlands',\n",
       "       'france'], dtype=object)"
      ]
     },
     "execution_count": 1,
     "metadata": {},
     "output_type": "execute_result"
    }
   ],
   "source": [
    "from sklearn.linear_model import LinearRegression\n",
    "import pandas as pd\n",
    "import numpy as np\n",
    "import matplotlib.pyplot as plt\n",
    "\n",
    "df = pd.read_csv('World-Stock-Prices-Dataset.csv')\n",
    "\n",
    "df[\"Country\"].unique()"
   ]
  },
  {
   "cell_type": "code",
   "execution_count": 2,
   "id": "c305bdea",
   "metadata": {},
   "outputs": [
    {
     "name": "stdout",
     "output_type": "stream",
     "text": [
      "Dataset shape: (310122, 13)\n",
      "\n",
      "Column names:\n",
      "['Date', 'Open', 'High', 'Low', 'Close', 'Volume', 'Brand_Name', 'Ticker', 'Industry_Tag', 'Country', 'Dividends', 'Stock Splits', 'Capital Gains']\n",
      "\n",
      "First few rows:\n",
      "                        Date        Open        High         Low       Close  \\\n",
      "0  2025-07-03 00:00:00-04:00    6.630000    6.740000    6.615000    6.640000   \n",
      "1  2025-07-03 00:00:00-04:00  106.750000  108.370003  106.330101  107.339996   \n",
      "2  2025-07-03 00:00:00-04:00  122.629997  123.050003  121.550003  121.930000   \n",
      "3  2025-07-03 00:00:00-04:00  221.705002  224.009995  221.360001  223.410004   \n",
      "4  2025-07-03 00:00:00-04:00  212.145004  214.649994  211.810104  213.550003   \n",
      "\n",
      "       Volume Brand_Name Ticker Industry_Tag  Country  Dividends  \\\n",
      "0   4209664.0    peloton   PTON      fitness      usa        0.0   \n",
      "1    560190.0      crocs   CROX     footwear      usa        0.0   \n",
      "2     36600.0     adidas  ADDYY      apparel  germany        0.0   \n",
      "3  29295154.0     amazon   AMZN   e-commerce      usa        0.0   \n",
      "4  34697317.0      apple   AAPL   technology      usa        0.0   \n",
      "\n",
      "   Stock Splits  Capital Gains  \n",
      "0           0.0            NaN  \n",
      "1           0.0            NaN  \n",
      "2           0.0            NaN  \n",
      "3           0.0            NaN  \n",
      "4           0.0            NaN  \n",
      "\n",
      "Data types:\n",
      "Date              object\n",
      "Open             float64\n",
      "High             float64\n",
      "Low              float64\n",
      "Close            float64\n",
      "Volume           float64\n",
      "Brand_Name        object\n",
      "Ticker            object\n",
      "Industry_Tag      object\n",
      "Country           object\n",
      "Dividends        float64\n",
      "Stock Splits     float64\n",
      "Capital Gains    float64\n",
      "dtype: object\n",
      "\n",
      "Basic statistics:\n",
      "                Open           High            Low          Close  \\\n",
      "count  310122.000000  310122.000000  310122.000000  310122.000000   \n",
      "mean       76.325431      77.198011      75.434586      76.338032   \n",
      "std       141.684070     143.224109     140.063617     141.679129   \n",
      "min         0.000000       0.000000       0.000000       0.198861   \n",
      "25%        15.932500      16.163165      15.710323      15.940000   \n",
      "50%        35.408120      35.809869      34.982469      35.407547   \n",
      "75%        83.996691      84.914656      83.088609      84.000000   \n",
      "max      3445.580078    3463.070068    3370.000000    3427.610107   \n",
      "\n",
      "             Volume      Dividends   Stock Splits  Capital Gains  \n",
      "count  3.101220e+05  310122.000000  310122.000000            2.0  \n",
      "mean   2.270937e+07       0.003643       0.000875            0.0  \n",
      "std    8.565744e+07       0.069905       0.115434            0.0  \n",
      "min    0.000000e+00       0.000000       0.000000            0.0  \n",
      "25%    1.379050e+06       0.000000       0.000000            0.0  \n",
      "50%    4.591642e+06       0.000000       0.000000            0.0  \n",
      "75%    1.212860e+07       0.000000       0.000000            0.0  \n",
      "max    7.421641e+09      15.000000      50.000000            0.0  \n"
     ]
    }
   ],
   "source": [
    "# idk why this is here\n",
    "print(\"Dataset shape:\", df.shape)\n",
    "print(\"\\nColumn names:\")\n",
    "print(df.columns.tolist())\n",
    "print(\"\\nFirst few rows:\")\n",
    "print(df.head())\n",
    "print(\"\\nData types:\")\n",
    "print(df.dtypes)\n",
    "print(\"\\nBasic statistics:\")\n",
    "print(df.describe())\n"
   ]
  },
  {
   "cell_type": "code",
   "execution_count": 3,
   "id": "682a5a68",
   "metadata": {},
   "outputs": [
    {
     "name": "stdout",
     "output_type": "stream",
     "text": [
      "Date             2024-06-18 00:00:00-04:00\n",
      "Open                                3435.0\n",
      "High                           3463.070068\n",
      "Low                                 3370.0\n",
      "Close                          3427.610107\n",
      "Volume                            693800.0\n",
      "Brand_Name                        chipotle\n",
      "Ticker                                 CMG\n",
      "Industry_Tag                          food\n",
      "Country                                usa\n",
      "Dividends                              0.0\n",
      "Stock Splits                           0.0\n",
      "Capital Gains                          NaN\n",
      "Name: 18924, dtype: object\n",
      "{'3m': 3480991.8792890264, 'adidas': 59576.23362175525, 'adobe': 5115460.557032458, 'airbnb': 6007634.09325562, 'amazon': 116452264.35935085, 'amd': 34004310.76893354, 'american eagle outfitters': 5032047.939258114, 'american express': 6076273.512982998, 'apple': 376723829.8304482, 'block': 10403551.52184874, 'bmw group': 12802.4037999038, 'chipotle': 1386581.7429726997, 'cisco': 41715528.26846986, 'coinbase': 11019766.017905103, 'colgate palmolive': 4379985.943731643, 'costco': 3257054.3625966, 'crocs': 2127899.610897306, 'delta air lines': 11810702.756914433, 'fedex': 2144221.332972639, 'foot locker': 2324440.9214837714, 'google': 112822106.24302939, 'hershey company': 1230395.5218735507, 'hilton': 2565459.676798379, 'honda': 658475.913742464, 'johnson & johnson': 9001874.670942813, 'jpmorgan chase & co': 19300025.36584235, 'logitech': 610731.1718967382, 'lvmh': 123495.19032192751, 'marriott': 2785500.6237057643, 'mastercard': 10412235.505654946, \"mcdonald's\": 5385681.26244204, 'microsoft': 49226365.404636785, 'netflix': 15014825.253405994, 'nike': 10614801.992272025, 'nintendo': 1225801.3857695283, 'nordstrom': 3235248.8848126847, 'nvidia': 84138751.20958269, 'peloton': 13338567.044488711, 'philips': 1116327.3003555418, 'pinterest': 11841648.19109462, 'porsche': 185914.0909090909, 'procter & gamble': 8965207.81759159, 'puma': 377.5108396946565, 'roblox': 12822004.118317265, 'salesforce / slack': 6890878.691473448, 'shopify': 16235864.23481937, 'southwest airlines': 6650917.19397218, 'spotify': 1879638.1820117084, 'starbucks': 13626210.965069551, 'target': 5627622.917465224, 'tesla': 97076321.50900078, 'the coca-cola company': 14770558.729829984, 'the home depot': 8416878.68835987, 'the walt disney company': 9802719.39366306, 'toyota': 363929.89240995515, 'twitter': 0.0, 'uber': 23899277.016853932, 'ubisoft': 72392.48299492386, 'unilever': 1241955.968928737, 'visa': 14160436.5570683, 'zoom video communications': 4667022.289424861, 'zoominfo': 5029238.965256797}\n",
      "{'usa': 243606, 'japan': 19403, 'germany': 16225, 'netherlands': 12938, 'france': 8879, 'switzerland': 6469, 'canada': 2602}\n"
     ]
    }
   ],
   "source": [
    "# questions 1-3\n",
    "# changed because old code used .itterrows() which bypasses the C loops that make pandas fast\n",
    "# new one should all be vectorized\n",
    "#1\n",
    "top_row = df.loc[df[\"High\"].idxmax()]\n",
    "print(top_row)\n",
    "#2\n",
    "avg = df.groupby(\"Brand_Name\")[\"Volume\"].mean().to_dict()\n",
    "print(avg)\n",
    "#3\n",
    "country_counts = df[\"Country\"].value_counts().to_dict()\n",
    "print(country_counts)"
   ]
  },
  {
   "cell_type": "markdown",
   "id": "efc570b5",
   "metadata": {},
   "source": [
    "4) which company had the most volatile stock in terms of daily range (high to low gap)"
   ]
  },
  {
   "cell_type": "code",
   "execution_count": 4,
   "id": "c322f562",
   "metadata": {},
   "outputs": [
    {
     "name": "stdout",
     "output_type": "stream",
     "text": [
      "Date              2019-06-10 00:00:00-04:00\n",
      "Open                             590.928222\n",
      "High                             600.041075\n",
      "Low                               67.861498\n",
      "Close                             92.097748\n",
      "Volume                                200.0\n",
      "Brand_Name                             puma\n",
      "Ticker                                PMMAF\n",
      "Industry_Tag                        apparel\n",
      "Country                             germany\n",
      "Dividends                               0.0\n",
      "Stock Splits                           10.0\n",
      "Capital Gains                           NaN\n",
      "Volatility (%)                   784.214303\n",
      "Name: 94646, dtype: object\n"
     ]
    }
   ],
   "source": [
    "# single pass\n",
    "df['Volatility (%)'] = (df['High'] - df['Low']) / df['Low'] * 100\n",
    "max_vol_row = df.loc[df['Volatility (%)'].idxmax()]\n",
    "print(max_vol_row)"
   ]
  },
  {
   "cell_type": "markdown",
   "id": "137345f9",
   "metadata": {},
   "source": [
    "5) identify the companies that paid dividends at some point in the dataset"
   ]
  },
  {
   "cell_type": "code",
   "execution_count": 5,
   "id": "3382cd75",
   "metadata": {},
   "outputs": [
    {
     "data": {
      "text/plain": [
       "array(['american express', 'cisco', 'jpmorgan chase & co',\n",
       "       'the walt disney company', 'fedex', 'salesforce / slack',\n",
       "       'southwest airlines', 'the coca-cola company', 'google',\n",
       "       'the home depot', 'nike', \"mcdonald's\", 'johnson & johnson',\n",
       "       'hilton', '3m', 'marriott', 'unilever', 'hershey company',\n",
       "       'starbucks', 'microsoft', 'target', 'delta air lines', 'visa',\n",
       "       'costco', 'procter & gamble', 'colgate palmolive',\n",
       "       'american eagle outfitters', 'mastercard', 'nvidia', 'nordstrom',\n",
       "       'apple', 'logitech', 'porsche', 'puma', 'adidas', 'bmw group',\n",
       "       'lvmh', 'foot locker', 'honda', 'philips', 'toyota', 'ubisoft',\n",
       "       'nintendo', 'adobe'], dtype=object)"
      ]
     },
     "execution_count": 5,
     "metadata": {},
     "output_type": "execute_result"
    }
   ],
   "source": [
    "# for some reason it says .unique() is not a function? but it works\n",
    "df[df[\"Dividends\"] > 0][\"Brand_Name\"].unique()"
   ]
  },
  {
   "cell_type": "markdown",
   "id": "25bab0c6",
   "metadata": {},
   "source": [
    "6. which company's stock showed the greatest upward trend over time?"
   ]
  },
  {
   "cell_type": "code",
   "execution_count": 6,
   "id": "8cef932d",
   "metadata": {},
   "outputs": [
    {
     "name": "stdout",
     "output_type": "stream",
     "text": [
      "Brand_Name             3m\n",
      "Start_Date     2000-01-03\n",
      "End_Date       2025-07-03\n",
      "Start_Price     16.232879\n",
      "End_Price      158.235968\n",
      "Increase          874.79%\n",
      "Name: 0, dtype: object\n"
     ]
    },
    {
     "data": {
      "image/png": "[encoded data removed]",
      "text/plain": [
       "<Figure size 640x480 with 1 Axes>"
      ]
     },
     "metadata": {},
     "output_type": "display_data"
    }
   ],
   "source": [
    "# fit a linear regression of close vs. date‑ordinal per company to capture its long‑term price trend\n",
    "# predict the model’s start/end prices, compute % change, and select the company with the highest gain\n",
    "df['Date'] = pd.to_datetime(df['Date'], utc=True)\n",
    "results = []\n",
    "for company, group in df.groupby('Brand_Name'):\n",
    "  group = group.sort_values(by='Date')\n",
    "  if len(group) < 2:\n",
    "    continue\n",
    "  x = group['Date'].map(pd.Timestamp.toordinal).values.reshape(-1, 1) # again not sure why it says not a function\n",
    "  y = group['Close'].values\n",
    "\n",
    "  model = LinearRegression().fit(x, y)\n",
    "\n",
    "  start_date = x[0, 0]\n",
    "  end_date = x[-1, 0]\n",
    "  start_pred = model.predict([[start_date]])[0]\n",
    "  end_pred = model.predict([[end_date]])[0]\n",
    "\n",
    "  increase = (end_pred - start_pred) / start_pred * 100\n",
    "\n",
    "  results.append({\n",
    "    'Brand_Name': company,\n",
    "    'Start_Date': group['Date'].iloc[0],\n",
    "    'End_Date': group['Date'].iloc[-1],\n",
    "    'Start_Price': start_pred,\n",
    "    'End_Price': end_pred,\n",
    "    'Increase': f\"{increase:.2f}%\",\n",
    "  })\n",
    "\n",
    "results_df = pd.DataFrame(results)\n",
    "results_df['Start_Date'] = results_df['Start_Date'].dt.date\n",
    "results_df['End_Date'] = results_df['End_Date'].dt.date\n",
    "\n",
    "max_increase = results_df.loc[results_df['Increase'].idxmax()]\n",
    "print(max_increase)\n",
    "\n",
    "# visualization\n",
    "\n",
    "best_brand = max_increase['Brand_Name']\n",
    "group = df[df['Brand_Name'] == best_brand].sort_values('Date')\n",
    "\n",
    "x_ord = group['Date'].map(pd.Timestamp.toordinal).values.reshape(-1,1)\n",
    "y = group['Close'].values\n",
    "\n",
    "model = LinearRegression().fit(x_ord, y)\n",
    "\n",
    "x_line = np.linspace(x_ord.min(), x_ord.max(), 100)\n",
    "y_line = model.predict(x_line.reshape(-1,1))\n",
    "dates_line = [pd.Timestamp.fromordinal(int(d)) for d in x_line]\n",
    "\n",
    "plt.figure()\n",
    "plt.scatter(group['Date'], y)\n",
    "plt.plot(dates_line, y_line)\n",
    "plt.title(f'Trend for {best_brand}')\n",
    "plt.xlabel('Date')\n",
    "plt.ylabel('Price')\n",
    "plt.show()\n"
   ]
  },
  {
   "cell_type": "markdown",
   "id": "9cddbf4a",
   "metadata": {},
   "source": [
    "7. what was the best 5-day period to invest in each company (max gain over 5 days)?"
   ]
  },
  {
   "cell_type": "code",
   "execution_count": 7,
   "id": "3382cd75",
   "metadata": {},
   "outputs": [
    {
     "name": "stdout",
     "output_type": "stream",
     "text": [
      "                   Brand_Name  Start_Date    End_Date Day1_Open Day5_Close  \\\n",
      "0                          3m  2024-07-25  2024-07-30    102.72     126.75   \n",
      "1                      adidas  2022-11-03  2022-11-09     45.55      61.51   \n",
      "2                       adobe  2000-02-02  2000-02-08     13.89      20.79   \n",
      "3                      airbnb  2020-12-16  2020-12-22    125.83     163.19   \n",
      "4                      amazon  2001-04-06  2001-04-12      0.44       0.73   \n",
      "..                        ...         ...         ...       ...        ...   \n",
      "56                    ubisoft  2024-09-30  2024-10-04      2.22       3.02   \n",
      "57                   unilever  2000-03-10  2000-03-16      5.59       6.51   \n",
      "58                       visa  2008-10-24  2008-10-30      9.84      12.19   \n",
      "59  zoom video communications  2020-08-26  2020-09-01    293.00     457.69   \n",
      "60                   zoominfo  2020-06-05  2020-06-11     36.50      49.50   \n",
      "\n",
      "   %_Increase  \n",
      "0      23.39%  \n",
      "1      35.05%  \n",
      "2      49.72%  \n",
      "3      29.69%  \n",
      "4      64.83%  \n",
      "..        ...  \n",
      "56     36.04%  \n",
      "57     16.39%  \n",
      "58     23.86%  \n",
      "59     56.21%  \n",
      "60     35.62%  \n",
      "\n",
      "[61 rows x 6 columns]\n"
     ]
    }
   ],
   "source": [
    "## old method was O(n * number of brands) time complexity, way too slow\n",
    "# new method avoids any py loops so everything's in native C in O(N) time\n",
    "df = df.sort_values(['Brand_Name', 'Date'], ignore_index=True)\n",
    "df['Close_5'] = df.groupby('Brand_Name')['Close'].shift(-4)\n",
    "df['End_Date'] = df.groupby('Brand_Name')['Date'].shift(-4)\n",
    "df['Pct5'] = (df['Close_5'] - df['Open']) / df['Open'] * 100\n",
    "valid = df.dropna(subset=['Pct5'])\n",
    "best_idx = valid.groupby('Brand_Name')['Pct5'].idxmax()\n",
    "results = (\n",
    "    valid\n",
    "    .loc[best_idx, ['Brand_Name', 'Date', 'End_Date', 'Open', 'Close_5', 'Pct5']]\n",
    "    .rename(columns={\n",
    "        'Date': 'Start_Date',\n",
    "        'Open': 'Day1_Open',\n",
    "        'Close_5': 'Day5_Close',\n",
    "        'Pct5': '%_Increase'\n",
    "    })\n",
    "    .reset_index(drop=True)\n",
    ")\n",
    "\n",
    "results['Start_Date'] = results['Start_Date'].dt.date\n",
    "results['End_Date'] = results['End_Date'].dt.date\n",
    "results['Day1_Open'] = results['Day1_Open'].map(lambda x: f\"{x:.2f}\")\n",
    "results['Day5_Close'] = results['Day5_Close'].map(lambda x: f\"{x:.2f}\")\n",
    "results['%_Increase'] = results['%_Increase'].map(lambda x: f\"{x:.2f}%\")\n",
    "\n",
    "print(results)"
   ]
  },
  {
   "cell_type": "markdown",
   "id": "6f5abc60",
   "metadata": {},
   "source": [
    "see viz.ipynb for remaining two visualizations"
   ]
  }
 ],
 "metadata": {
  "kernelspec": {
   "display_name": "Python 3",
   "language": "python",
   "name": "python3"
  },
  "language_info": {
   "codemirror_mode": {
    "name": "ipython",
    "version": 3
   },
   "file_extension": ".py",
   "mimetype": "text/x-python",
   "name": "python",
   "nbconvert_exporter": "python",
   "pygments_lexer": "ipython3",
   "version": "3.12.10"
  }
 },
 "nbformat": 4,
 "nbformat_minor": 5
}
