{
 "cells": [
  {
   "cell_type": "code",
   "execution_count": 29,
   "id": "0d447395",
   "metadata": {},
   "outputs": [
    {
     "data": {
      "text/plain": [
       "array(['usa', 'germany', 'japan', 'switzerland', 'canada', 'netherlands',\n",
       "       'france'], dtype=object)"
      ]
     },
     "execution_count": 29,
     "metadata": {},
     "output_type": "execute_result"
    }
   ],
   "source": [
    "from sklearn.linear_model import LinearRegression\n",
    "import pandas as pd\n",
    "\n",
    "df = pd.read_csv('World-Stock-Prices-Dataset.csv')\n",
    "\n",
    "\n",
    "df[\"Country\"].unique()\n"
   ]
  },
  {
   "cell_type": "code",
   "execution_count": 30,
   "id": "c305bdea",
   "metadata": {},
   "outputs": [
    {
     "name": "stdout",
     "output_type": "stream",
     "text": [
      "Dataset shape: (310122, 13)\n",
      "\n",
      "Column names:\n",
      "['Date', 'Open', 'High', 'Low', 'Close', 'Volume', 'Brand_Name', 'Ticker', 'Industry_Tag', 'Country', 'Dividends', 'Stock Splits', 'Capital Gains']\n",
      "\n",
      "First few rows:\n",
      "                        Date        Open        High         Low       Close  \\\n",
      "0  2025-07-03 00:00:00-04:00    6.630000    6.740000    6.615000    6.640000   \n",
      "1  2025-07-03 00:00:00-04:00  106.750000  108.370003  106.330101  107.339996   \n",
      "2  2025-07-03 00:00:00-04:00  122.629997  123.050003  121.550003  121.930000   \n",
      "3  2025-07-03 00:00:00-04:00  221.705002  224.009995  221.360001  223.410004   \n",
      "4  2025-07-03 00:00:00-04:00  212.145004  214.649994  211.810104  213.550003   \n",
      "\n",
      "       Volume Brand_Name Ticker Industry_Tag  Country  Dividends  \\\n",
      "0   4209664.0    peloton   PTON      fitness      usa        0.0   \n",
      "1    560190.0      crocs   CROX     footwear      usa        0.0   \n",
      "2     36600.0     adidas  ADDYY      apparel  germany        0.0   \n",
      "3  29295154.0     amazon   AMZN   e-commerce      usa        0.0   \n",
      "4  34697317.0      apple   AAPL   technology      usa        0.0   \n",
      "\n",
      "   Stock Splits  Capital Gains  \n",
      "0           0.0            NaN  \n",
      "1           0.0            NaN  \n",
      "2           0.0            NaN  \n",
      "3           0.0            NaN  \n",
      "4           0.0            NaN  \n",
      "\n",
      "Data types:\n",
      "Date              object\n",
      "Open             float64\n",
      "High             float64\n",
      "Low              float64\n",
      "Close            float64\n",
      "Volume           float64\n",
      "Brand_Name        object\n",
      "Ticker            object\n",
      "Industry_Tag      object\n",
      "Country           object\n",
      "Dividends        float64\n",
      "Stock Splits     float64\n",
      "Capital Gains    float64\n",
      "dtype: object\n",
      "\n",
      "Basic statistics:\n",
      "                Open           High            Low          Close  \\\n",
      "count  310122.000000  310122.000000  310122.000000  310122.000000   \n",
      "mean       76.325431      77.198011      75.434586      76.338032   \n",
      "std       141.684070     143.224109     140.063617     141.679129   \n",
      "min         0.000000       0.000000       0.000000       0.198861   \n",
      "25%        15.932500      16.163165      15.710323      15.940000   \n",
      "50%        35.408120      35.809869      34.982469      35.407547   \n",
      "75%        83.996691      84.914656      83.088609      84.000000   \n",
      "max      3445.580078    3463.070068    3370.000000    3427.610107   \n",
      "\n",
      "             Volume      Dividends   Stock Splits  Capital Gains  \n",
      "count  3.101220e+05  310122.000000  310122.000000            2.0  \n",
      "mean   2.270937e+07       0.003643       0.000875            0.0  \n",
      "std    8.565744e+07       0.069905       0.115434            0.0  \n",
      "min    0.000000e+00       0.000000       0.000000            0.0  \n",
      "25%    1.379050e+06       0.000000       0.000000            0.0  \n",
      "50%    4.591642e+06       0.000000       0.000000            0.0  \n",
      "75%    1.212860e+07       0.000000       0.000000            0.0  \n",
      "max    7.421641e+09      15.000000      50.000000            0.0  \n"
     ]
    }
   ],
   "source": [
    "# Explore the dataset structure\n",
    "print(\"Dataset shape:\", df.shape)\n",
    "print(\"\\nColumn names:\")\n",
    "print(df.columns.tolist())\n",
    "print(\"\\nFirst few rows:\")\n",
    "print(df.head())\n",
    "print(\"\\nData types:\")\n",
    "print(df.dtypes)\n",
    "print(\"\\nBasic statistics:\")\n",
    "print(df.describe())\n"
   ]
  },
  {
   "cell_type": "code",
   "execution_count": 31,
   "id": "682a5a68",
   "metadata": {},
   "outputs": [
    {
     "name": "stdout",
     "output_type": "stream",
     "text": [
      "                            Date    Open         High     Low        Close  \\\n",
      "18924  2024-06-18 00:00:00-04:00  3435.0  3463.070068  3370.0  3427.610107   \n",
      "\n",
      "         Volume Brand_Name Ticker Industry_Tag Country  Dividends  \\\n",
      "18924  693800.0   chipotle    CMG         food     usa        0.0   \n",
      "\n",
      "       Stock Splits  Capital Gains  \n",
      "18924           0.0            NaN  \n"
     ]
    },
    {
     "name": "stderr",
     "output_type": "stream",
     "text": [
      "/var/folders/h8/c23d2rp519z5xwqk6hjrz6gm0000gp/T/ipykernel_21779/637325651.py:10: FutureWarning: Series.__getitem__ treating keys as positions is deprecated. In a future version, integer keys will always be treated as labels (consistent with DataFrame behavior). To access a value by position, use `ser.iloc[pos]`\n",
      "  if y[6] in d:\n",
      "/var/folders/h8/c23d2rp519z5xwqk6hjrz6gm0000gp/T/ipykernel_21779/637325651.py:14: FutureWarning: Series.__getitem__ treating keys as positions is deprecated. In a future version, integer keys will always be treated as labels (consistent with DataFrame behavior). To access a value by position, use `ser.iloc[pos]`\n",
      "  d[y[6]]=[y[5],1]\n",
      "/var/folders/h8/c23d2rp519z5xwqk6hjrz6gm0000gp/T/ipykernel_21779/637325651.py:11: FutureWarning: Series.__getitem__ treating keys as positions is deprecated. In a future version, integer keys will always be treated as labels (consistent with DataFrame behavior). To access a value by position, use `ser.iloc[pos]`\n",
      "  d[y[6]][0]+=y[5]\n",
      "/var/folders/h8/c23d2rp519z5xwqk6hjrz6gm0000gp/T/ipykernel_21779/637325651.py:12: FutureWarning: Series.__getitem__ treating keys as positions is deprecated. In a future version, integer keys will always be treated as labels (consistent with DataFrame behavior). To access a value by position, use `ser.iloc[pos]`\n",
      "  d[y[6]][1]+=1\n"
     ]
    },
    {
     "ename": "KeyboardInterrupt",
     "evalue": "",
     "output_type": "error",
     "traceback": [
      "\u001b[0;31m---------------------------------------------------------------------------\u001b[0m",
      "\u001b[0;31mKeyboardInterrupt\u001b[0m                         Traceback (most recent call last)",
      "Cell \u001b[0;32mIn[31], line 10\u001b[0m\n\u001b[1;32m      7\u001b[0m d2\u001b[38;5;241m=\u001b[39m{}\n\u001b[1;32m      8\u001b[0m \u001b[38;5;28;01mfor\u001b[39;00m x,y \u001b[38;5;129;01min\u001b[39;00m df\u001b[38;5;241m.\u001b[39miterrows():\n\u001b[1;32m      9\u001b[0m     \u001b[38;5;66;03m# print(y[6])\u001b[39;00m\n\u001b[0;32m---> 10\u001b[0m     \u001b[38;5;28;01mif\u001b[39;00m y[\u001b[38;5;241m6\u001b[39m] \u001b[38;5;129;01min\u001b[39;00m d:\n\u001b[1;32m     11\u001b[0m         d[y[\u001b[38;5;241m6\u001b[39m]][\u001b[38;5;241m0\u001b[39m]\u001b[38;5;241m+\u001b[39m\u001b[38;5;241m=\u001b[39my[\u001b[38;5;241m5\u001b[39m]\n\u001b[1;32m     12\u001b[0m         d[y[\u001b[38;5;241m6\u001b[39m]][\u001b[38;5;241m1\u001b[39m]\u001b[38;5;241m+\u001b[39m\u001b[38;5;241m=\u001b[39m\u001b[38;5;241m1\u001b[39m\n",
      "File \u001b[0;32m/opt/anaconda3/lib/python3.12/site-packages/pandas/core/series.py:1095\u001b[0m, in \u001b[0;36mSeries.__getitem__\u001b[0;34m(self, key)\u001b[0m\n\u001b[1;32m   1092\u001b[0m     out\u001b[38;5;241m.\u001b[39m_name \u001b[38;5;241m=\u001b[39m \u001b[38;5;28mself\u001b[39m\u001b[38;5;241m.\u001b[39m_name\n\u001b[1;32m   1093\u001b[0m     \u001b[38;5;28;01mreturn\u001b[39;00m out\u001b[38;5;241m.\u001b[39m__finalize__(\u001b[38;5;28mself\u001b[39m)\n\u001b[0;32m-> 1095\u001b[0m \u001b[38;5;28;01mdef\u001b[39;00m \u001b[38;5;21m__getitem__\u001b[39m(\u001b[38;5;28mself\u001b[39m, key):\n\u001b[1;32m   1096\u001b[0m     check_dict_or_set_indexers(key)\n\u001b[1;32m   1097\u001b[0m     key \u001b[38;5;241m=\u001b[39m com\u001b[38;5;241m.\u001b[39mapply_if_callable(key, \u001b[38;5;28mself\u001b[39m)\n",
      "\u001b[0;31mKeyboardInterrupt\u001b[0m: "
     ]
    }
   ],
   "source": [
    "#questions 1-3\n",
    "#1\n",
    "a=df.sort_values(by=\"High\",ascending=False)\n",
    "print(a.head(1))\n",
    "#2\n",
    "d={}\n",
    "d2={}\n",
    "for x,y in df.iterrows():\n",
    "    # print(y[6])\n",
    "    if y[6] in d:\n",
    "        d[y[6]][0]+=y[5]\n",
    "        d[y[6]][1]+=1\n",
    "    else:\n",
    "        d[y[6]]=[y[5],1]\n",
    "for x in d.keys():\n",
    "    d2[x]=(d[x][0]/d[x][1])\n",
    "print(d2)\n",
    "#3\n",
    "d3={}\n",
    "for x,y in df.iterrows():\n",
    "    if y[9] in d3:\n",
    "        d3[y[9]]+=1\n",
    "    else:\n",
    "        d3[y[9]]=1\n",
    "print(d3)"
   ]
  },
  {
   "cell_type": "markdown",
   "id": "efc570b5",
   "metadata": {},
   "source": [
    "4) which company had the most volatile stock in terms of daily range (high to low gap)"
   ]
  },
  {
   "cell_type": "code",
   "execution_count": 3,
   "id": "c322f562",
   "metadata": {},
   "outputs": [
    {
     "name": "stdout",
     "output_type": "stream",
     "text": [
      "Date              2019-06-10 00:00:00-04:00\n",
      "Open                             590.928222\n",
      "High                             600.041075\n",
      "Low                               67.861498\n",
      "Close                             92.097748\n",
      "Volume                                200.0\n",
      "Brand_Name                             puma\n",
      "Ticker                                PMMAF\n",
      "Industry_Tag                        apparel\n",
      "Country                             germany\n",
      "Dividends                               0.0\n",
      "Stock Splits                           10.0\n",
      "Capital Gains                           NaN\n",
      "Volatility (%)                   784.214303\n",
      "Name: 94646, dtype: object\n"
     ]
    }
   ],
   "source": [
    "df['Volatility (%)'] = (df['High'] - df['Low']) / df['Low'] * 100\n",
    "max_vol_row = df.loc[df['Volatility (%)'].idxmax()]\n",
    "print(max_vol_row)"
   ]
  },
  {
   "cell_type": "markdown",
   "id": "137345f9",
   "metadata": {},
   "source": [
    "5) identify the companies that paid dividends at some point in the dataset"
   ]
  },
  {
   "cell_type": "code",
   "execution_count": 46,
   "id": "3382cd75",
   "metadata": {},
   "outputs": [],
   "source": [
    "df[df[\"Dividends\"] > 0][\"Brand_Name\"].unique()"
   ]
  },
  {
   "cell_type": "code",
   "execution_count": null,
   "id": "3382cd75",
   "metadata": {},
   "outputs": [
    {
     "name": "stdout",
     "output_type": "stream",
     "text": [
      "['peloton' 'crocs' 'adidas' 'amazon' 'apple' 'nike' 'target' 'google'\n",
      " 'spotify' 'zoom video communications' 'the walt disney company' 'roblox'\n",
      " 'delta air lines' 'costco' 'southwest airlines'\n",
      " 'american eagle outfitters' 'tesla' 'starbucks' 'nvidia'\n",
      " 'salesforce / slack' 'honda' 'colgate palmolive' 'hershey company'\n",
      " 'chipotle' 'pinterest' 'logitech' 'shopify' 'amd' 'american express'\n",
      " 'coinbase' 'mastercard' \"mcdonald's\" 'adobe' 'unilever' 'cisco'\n",
      " 'jpmorgan chase & co' 'airbnb' 'marriott' 'toyota' 'hilton'\n",
      " 'the home depot' 'johnson & johnson' 'uber' 'procter & gamble' 'fedex'\n",
      " '3m' 'philips' 'foot locker' 'the coca-cola company' 'microsoft' 'visa'\n",
      " 'lvmh' 'zoominfo' 'ubisoft' 'netflix' 'puma' 'nintendo' 'bmw group'\n",
      " 'porsche' 'twitter' 'nordstrom' 'block']\n"
     ]
    },
    {
     "name": "stderr",
     "output_type": "stream",
     "text": [
      "/var/folders/h8/c23d2rp519z5xwqk6hjrz6gm0000gp/T/ipykernel_21779/3554267303.py:12: FutureWarning: Series.__getitem__ treating keys as positions is deprecated. In a future version, integer keys will always be treated as labels (consistent with DataFrame behavior). To access a value by position, use `ser.iloc[pos]`\n",
      "  if y[6]!=i:\n",
      "/var/folders/h8/c23d2rp519z5xwqk6hjrz6gm0000gp/T/ipykernel_21779/3554267303.py:14: FutureWarning: Series.__getitem__ treating keys as positions is deprecated. In a future version, integer keys will always be treated as labels (consistent with DataFrame behavior). To access a value by position, use `ser.iloc[pos]`\n",
      "  l.append([y[0],y[4]])\n"
     ]
    },
    {
     "name": "stdout",
     "output_type": "stream",
     "text": [
      "799.9299926757812\n",
      "{'peloton': ['2021-01-14 00:00:00-05:00', '2021-01-07 00:00:00-05:00', 799.9299926757812], 'crocs': ['', '', 0], 'adidas': ['', '', 0], 'amazon': ['', '', 0], 'apple': ['', '', 0], 'nike': ['', '', 0], 'target': ['', '', 0], 'google': ['', '', 0], 'spotify': ['', '', 0], 'zoom video communications': ['', '', 0], 'the walt disney company': ['', '', 0], 'roblox': ['', '', 0], 'delta air lines': ['', '', 0], 'costco': ['', '', 0], 'southwest airlines': ['', '', 0], 'american eagle outfitters': ['', '', 0], 'tesla': ['', '', 0], 'starbucks': ['', '', 0], 'nvidia': ['', '', 0], 'salesforce / slack': ['', '', 0], 'honda': ['', '', 0], 'colgate palmolive': ['', '', 0], 'hershey company': ['', '', 0], 'chipotle': ['', '', 0], 'pinterest': ['', '', 0], 'logitech': ['', '', 0], 'shopify': ['', '', 0], 'amd': ['', '', 0], 'american express': ['', '', 0], 'coinbase': ['', '', 0], 'mastercard': ['', '', 0], \"mcdonald's\": ['', '', 0], 'adobe': ['', '', 0], 'unilever': ['', '', 0], 'cisco': ['', '', 0], 'jpmorgan chase & co': ['', '', 0], 'airbnb': ['', '', 0], 'marriott': ['', '', 0], 'toyota': ['', '', 0], 'hilton': ['', '', 0], 'the home depot': ['', '', 0], 'johnson & johnson': ['', '', 0], 'uber': ['', '', 0], 'procter & gamble': ['', '', 0], 'fedex': ['', '', 0], '3m': ['', '', 0], 'philips': ['', '', 0], 'foot locker': ['', '', 0], 'the coca-cola company': ['', '', 0], 'microsoft': ['', '', 0], 'visa': ['', '', 0], 'lvmh': ['', '', 0], 'zoominfo': ['', '', 0], 'ubisoft': ['', '', 0], 'netflix': ['', '', 0], 'puma': ['', '', 0], 'nintendo': ['', '', 0], 'bmw group': ['', '', 0], 'porsche': ['', '', 0], 'twitter': ['', '', 0], 'nordstrom': ['', '', 0], 'block': ['', '', 0]}\n"
     ]
    }
   ],
   "source": [
    "#question 7\n",
    "d4={}\n",
    "print(df[\"Brand_Name\"].unique())\n",
    "for x in df[\"Brand_Name\"].unique():\n",
    "    d4[x]=[\"\",\"\",0]\n",
    "# print(df[\"Brand_Name\"].unique()[0])\n",
    "mx=0\n",
    "for i in df[\"Brand_Name\"].unique():\n",
    "    l=[]\n",
    "    for x,y in df.iterrows():\n",
    "        # print(i,y[6])\n",
    "        if y[6]!=i:\n",
    "            continue\n",
    "        l.append([y[0],y[4]])\n",
    "    # print(sorted(l,key=lambda x: x[1],reverse=True))\n",
    "    # break\n",
    "    for x in range(len(l)-5):\n",
    "        a=l[x][0]\n",
    "        b=l[x+5][0]\n",
    "        cnt=0\n",
    "        for y in range(5):\n",
    "            cnt+=l[x+y][1]\n",
    "        # print(d4[i][2])\n",
    "        mx=max(mx,cnt)\n",
    "        if d4[i][2]<=cnt:\n",
    "            d4[i][2]=cnt\n",
    "            d4[i][0]=a\n",
    "            d4[i][1]=b\n",
    "    # print(mx)\n",
    "    # break\n",
    "print(d4)"
   ]
  },
  {
   "cell_type": "markdown",
   "id": "6f5abc60",
   "metadata": {},
   "source": []
  },
  {
   "cell_type": "code",
   "execution_count": null,
   "id": "5ce2eef5",
   "metadata": {},
   "outputs": [],
   "source": []
  }
 ],
 "metadata": {
  "kernelspec": {
   "display_name": "base",
   "language": "python",
   "name": "python3"
  },
  "language_info": {
   "codemirror_mode": {
    "name": "ipython",
    "version": 3
   },
   "file_extension": ".py",
   "mimetype": "text/x-python",
   "name": "python",
   "nbconvert_exporter": "python",
   "pygments_lexer": "ipython3",
   "version": "3.12.7"
  }
 },
 "nbformat": 4,
 "nbformat_minor": 5
}
