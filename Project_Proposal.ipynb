{
 "cells": [
  {
   "cell_type": "markdown",
   "metadata": {
    "id": "7tlyjYf8s5N1"
   },
   "source": [
    "# Project Proposal for <font color='green'>Ryan, Leo, Ethan </font>\n"
   ]
  },
  {
   "cell_type": "markdown",
   "metadata": {
    "id": "Kjc71RsKs5N4"
   },
   "source": [
    "Put all of the team members' names there ^. Then delete this cell :)."
   ]
  },
  {
   "cell_type": "markdown",
   "metadata": {},
   "source": [
    "For the next day, you'll be doing an independently selected project using pandas. Your job is to gather some data of interest to you from one or two sources and answer some questions about it. The questions that you answer are up to you (subject to our approval), so you should think of this as an opportunity to investigate something that is interesting to you.\n",
    "\n",
    "This project will be graded on effort, completion, and **correctness**. Rubric will follow on Canvas soon.\n",
    "\n",
    "For this proposal, you will identify some data sources that are interesting to you. You can use one or more sources. We can help you find sources if you know something that you're interested in but aren't sure where to look. Start by brainstorming what topics might be interesting to you, and then follow up by trying to find actual data.\n",
    "\n",
    "Ideas for where to get data: Kaggle, OpenData sources (like Philly Open Data), Wikipedia pages of interest, Billboard Hot 100, Goodreads, Letterboxd, **personal data.**\n",
    "\n",
    "Harry will approve/provide feedback on your proposals today in Lab.\n",
    "\n",
    "To complete a proposal, you will have to finish the following steps:\n",
    "1. Answer the questions about data sources and process.\n",
    "\n",
    "2. Propose ten questions that you intend to investigate. (You will not need to provide answers/visualizations for all of them.)\n",
    "   1. Your questions should be a mixture of simple & complex queries. Some might be answered with just one or two lines of pandas code, but others should take a bit more work. \n",
    "   2. It's best to have your questions motivated by interesting ideas, but we'll help to make sure that what you're investigating is solvable with tools you have already & other simple extensions.\n",
    "   \n",
    "1) which company had the highest single-day closing price?\n",
    "2) what is the average daily trading volume for each company?\n",
    "3) which countries have the most companies represented in this dataset?\n",
    "4) which company had the most volatile stock in terms of daily range (high to low gap)\n",
    "5) identify the companies that paid dividends at some point in the dataset\n",
    "6) which company's stock showed the greatest upwards trend over time\n",
    "7) best 5-day window to invest in each company (return a list, sliding window?)\n",
    "8) simulate a simple ema-based strategy for each stock and figure out which is the most profitable over a given timeframe\n",
    "9) identify average trading behavior by country or industry type\n",
    "10) which companies had unusual volume spikes (can it be correlated to external events?)\n",
    "\n",
    "3. Identify three visualizations that you want to generate. You can use these visualizations to provide the answers to your questions, or you can have the visualizations be exploratory and used to get a more general sense of the data. Either is fine.\n",
    "\n",
    "1) plot the candlestick series for any one company\n",
    "2) clustering companies based on average trading behavior (k-means)\n",
    "3) q6 linear regression plot\n",
    "\n",
    "To complete the **project**, you will complete the following steps:\n",
    "1. Create a notebook that contains your data acquisition, cleaning, filtering, and modification. The notebook should be executable from top to bottom—don't rely on cells being run out of order.\n",
    "2. Towards the bottom of your notebook, include cells with the \"answers\" to at least **seven** of your investigation questions. These answers should be marked with Markdown cells that present the question and summarize the answer that you find. \n",
    "3. Create a short 8 minute presentation that describes:\n",
    "   1.  how you found, collected, and filtered the data\n",
    "   2.  why it was interesting to you\n",
    "   3.  what the answers to your questions were\n",
    "   4.  what visualizations you created\n",
    "\n",
    "**Don't submit this until you get Harry's approval for your projects!**"
   ]
  },
  {
   "cell_type": "markdown",
   "metadata": {
    "id": "T4Yo-fqUs5N5"
   },
   "source": [
    "## Describe the data that you’ve selected for this project."
   ]
  },
  {
   "cell_type": "markdown",
   "metadata": {
    "id": "kAelh2k1s5N6"
   },
   "source": [
    "What information is contained in this data? Write a general description. Then, describe the columns in the dataset."
   ]
  },
  {
   "cell_type": "markdown",
   "metadata": {
    "id": "GLN4YNb4s5N7"
   },
   "source": [
    "The data contains roughly 310,000 data points for a set of stocks (one point daily), containing info such as its daily open, close, high, low, and volume. Essentially it provides enough info to produce a candlestick chart on the 1d timeframe, as well as a bit of additional information about each stock.\n",
    "For each entry, it contains a timestamp (12 AM EDT), the high/low and open/close for that day, the name/ticker, country (of company or of the stock exchange?), industry, and dividends/split info."
   ]
  },
  {
   "cell_type": "markdown",
   "metadata": {
    "id": "QvXJCUMks5N8"
   },
   "source": [
    "How big is your dataset? Specifically, how many distinct points of data do you have."
   ]
  },
  {
   "cell_type": "markdown",
   "metadata": {
    "id": "-1wk77vGs5N8"
   },
   "source": [
    "310,123 rows, going back ~25 years"
   ]
  },
  {
   "cell_type": "markdown",
   "metadata": {
    "id": "AdDY0FB_s5N9"
   },
   "source": [
    "## Where will this information collected from? Where did you get your data? Please provide a URL if possible."
   ]
  },
  {
   "cell_type": "markdown",
   "metadata": {
    "id": "KX9AWUYTs5N-"
   },
   "source": [
    "https://doi.org/10.34740/kaggle/dsv/12388118"
   ]
  },
  {
   "cell_type": "markdown",
   "metadata": {
    "id": "D6tvz0iCs5N_"
   },
   "source": [
    "## Why did you pick your data? What about that particular dataset do you find interesting?"
   ]
  },
  {
   "cell_type": "markdown",
   "metadata": {
    "id": "A9mPo_qHs5OA"
   },
   "source": [
    "We're interested in finance/quant/HFT, this dataset is particularly interesting because of how much data it provides and the ability to essentially produce a candlestick chart from it"
   ]
  },
  {
   "cell_type": "markdown",
   "metadata": {
    "id": "-ccz3b5Gs5OB"
   },
   "source": [
    "### How much domain knowledge do you or your partner have with regards to this data?"
   ]
  },
  {
   "cell_type": "markdown",
   "metadata": {
    "id": "vbiJeW2Ws5OB"
   },
   "source": [
    "for me, i have ~3 years with trading, mev extraction/solutions in crypto, as well as ~1.5 years of experience building a spot protocol, partners have good experience with tradfi as well as economics and statistics"
   ]
  },
  {
   "cell_type": "markdown",
   "metadata": {
    "id": "UYQt2j3Hs5OC"
   },
   "source": [
    "### Is there any additional data that might help you? Any thoughts on where you might be able to get that data?\n",
    "\n",
    "Note: There is no harm in just sticking to the original dataset. Depending on your domain, getting additional data may/may not be feasible."
   ]
  },
  {
   "cell_type": "markdown",
   "metadata": {
    "id": "mW7eRWMis5OD"
   },
   "source": [
    "perhaps cross-reference tv's api, but likely this data on its own is sufficient"
   ]
  },
  {
   "cell_type": "markdown",
   "metadata": {
    "id": "SBl1y6vps5OD"
   },
   "source": [
    "### Can you think of any issues with the data? (Some examples: small sample size, biased sampling, lack of understanding/info about some columns etc)"
   ]
  },
  {
   "cell_type": "markdown",
   "metadata": {
    "collapsed": true,
    "id": "OD-EEjO6s5OD"
   },
   "source": [
    "Please write your answer here"
   ]
  },
  {
   "cell_type": "code",
   "execution_count": null,
   "metadata": {
    "collapsed": true,
    "id": "2ibl-rFWs5OE"
   },
   "outputs": [],
   "source": [
    "The country column is a bit ambiguous, not sure whether it references the primary country of exchange or of the company's incorporation, etc"
   ]
  },
  {
   "cell_type": "code",
   "execution_count": null,
   "metadata": {
    "collapsed": true,
    "id": "FSDYsWe-s5OE"
   },
   "outputs": [],
   "source": [
    "It contains no information that could be used to determine strength/performance of the stocks; anything like an indicator would have to be calculated manually"
   ]
  },
  {
   "cell_type": "markdown",
   "metadata": {
    "collapsed": true,
    "id": "1nSlUM59s5OE"
   },
   "source": [
    "**Please remember to upload both this file and enough information for your TA to be able to get the data that you used**"
   ]
  },
  {
   "cell_type": "markdown",
   "metadata": {
    "id": "GJ84A64NOiMc"
   },
   "source": []
  },
  {
   "cell_type": "code",
   "execution_count": null,
   "metadata": {
    "id": "GSksZV_BWx6_"
   },
   "outputs": [],
   "source": []
  }
 ],
 "metadata": {
  "colab": {
   "provenance": []
  },
  "kernelspec": {
   "display_name": "Python 3 (ipykernel)",
   "language": "python",
   "name": "python3"
  },
  "language_info": {
   "codemirror_mode": {
    "name": "ipython",
    "version": 3
   },
   "file_extension": ".py",
   "mimetype": "text/x-python",
   "name": "python",
   "nbconvert_exporter": "python",
   "pygments_lexer": "ipython3",
   "version": "3.11.2"
  }
 },
 "nbformat": 4,
 "nbformat_minor": 1
}
